{
 "cells": [
  {
   "cell_type": "markdown",
   "metadata": {},
   "source": [
    "Q1. Write a Python program to get the string from the given string where\n",
    "all the occurrence of its first char has been changed to '$,' except first\n",
    "char itself?\n",
    "\n",
    "    Sample String: 'prospect'\n",
    "    Expected Result : 'pros$ect'\n"
   ]
  },
  {
   "cell_type": "code",
   "execution_count": 176,
   "metadata": {},
   "outputs": [
    {
     "name": "stdout",
     "output_type": "stream",
     "text": [
      " Input string is  ::  megamart\n",
      " Output string is ::  mega$art\n"
     ]
    }
   ],
   "source": [
    "x = \"megamart\"\n",
    "print(\" Input string is  :: \",x)\n",
    "\n",
    "y = list(x)\n",
    " \n",
    "for i in range(1,len(y)):\n",
    "    if y[i] == y[0]:\n",
    "        y[i]='$'\n",
    "        \n",
    "z = \"\".join(y) \n",
    "print(\" Output string is :: \",z)"
   ]
  },
  {
   "cell_type": "markdown",
   "metadata": {},
   "source": [
    "Q2. Write a Python program to get the single string from the two given\n",
    "strings, and separated by the space and swap the first two characters of\n",
    "each string?\n",
    "\n",
    "    Sample String : 'abc', 'xyz'.\n",
    "    Expected Result: 'xyc abz'"
   ]
  },
  {
   "cell_type": "code",
   "execution_count": 177,
   "metadata": {},
   "outputs": [
    {
     "name": "stdout",
     "output_type": "stream",
     "text": [
      "['abc', 'xyz']\n",
      "xyz abc\n"
     ]
    },
    {
     "data": {
      "text/plain": [
       "str"
      ]
     },
     "execution_count": 177,
     "metadata": {},
     "output_type": "execute_result"
    }
   ],
   "source": [
    "x = 'abc'\n",
    "y = 'xyz'\n",
    "\n",
    "l =[]\n",
    "l.append(x)\n",
    "l.append(y)\n",
    "print(l)\n",
    "\n",
    "tmp = l[1]\n",
    "l[1] = l[0]\n",
    "l[0] = tmp\n",
    "# we can use list.reverse()\n",
    "\n",
    "z = \" \".join(l)\n",
    "print(z)\n",
    "type(z)"
   ]
  },
  {
   "cell_type": "markdown",
   "metadata": {},
   "source": [
    "Q3. Write the Python program to add 'ing' at the end of the given string\n",
    "(length of the string should be at least 3). If given string already ends\n",
    "with 'ing,' then add 'ly' instead. If string length of the given string is less\n",
    "than 3, leave it unchanged?\n",
    "\n",
    "\n",
    "    Sample string: ' abc '\n",
    "    Expected result: ' abcing '\n",
    "    Sample string: ' string '\n",
    "    Expected result: ' stringly '\n"
   ]
  },
  {
   "cell_type": "code",
   "execution_count": 178,
   "metadata": {},
   "outputs": [],
   "source": [
    "def string_mod(str):\n",
    "    if len(str) >= 3:    \n",
    "        if str[-3:] == 'ing':         \n",
    "            str = str + 'ly'\n",
    "            print(\"There is a change in original string ::\")\n",
    "            return str            \n",
    "        else:    \n",
    "            str = str + 'ing'\n",
    "            print(\"There is a change in original string ::\")\n",
    "            return str            \n",
    "    else:       \n",
    "        print(\"No change :: \")\n",
    "        return str                "
   ]
  },
  {
   "cell_type": "code",
   "execution_count": 179,
   "metadata": {},
   "outputs": [
    {
     "name": "stdout",
     "output_type": "stream",
     "text": [
      "There is a change in original string ::\n",
      "Headingly\n",
      "There is a change in original string ::\n",
      "Eating\n",
      "No change :: \n",
      "It\n"
     ]
    }
   ],
   "source": [
    "print(string_mod('Heading'))\n",
    "print(string_mod('Eat'))\n",
    "print(string_mod('It'))"
   ]
  },
  {
   "cell_type": "markdown",
   "metadata": {},
   "source": [
    "Q4. Write the Python program to find the first appearance of the\n",
    "substring 'not' and 'poor' from the given string, if 'not' follows the 'poor',\n",
    "replace the whole 'not'...' poor' substring with 'good'.Return the resulting\n",
    "string.\n",
    "\n",
    "    Sample string: 'The lyrics are not that poor!'\n",
    "    'The lyrics are poor!'\n",
    "    Expected Result: 'The lyrics are good!'\n",
    "    'The lyrics are poor!'"
   ]
  },
  {
   "cell_type": "code",
   "execution_count": 180,
   "metadata": {},
   "outputs": [
    {
     "name": "stdout",
     "output_type": "stream",
     "text": [
      "['the', 'lyrics', 'are', 'not', 'that', 'poor']\n",
      "TRUE\n",
      "the lyrics are good\n"
     ]
    }
   ],
   "source": [
    "\n",
    "inp1 = \"The lyrics are not that poor\"\n",
    "inp=inp1.lower()\n",
    "inp_split = inp.split()\n",
    "is_exists = 'FALSE';\n",
    "print(inp_split)\n",
    "\n",
    "for i in range(0,len(inp_split)):\n",
    "    if inp_split[i] == 'not':\n",
    "        for j in range(0,len(inp_split)):\n",
    "            if j > i:                \n",
    "                if inp_split[j] == 'poor':                    \n",
    "                    is_exists = 'TRUE';                \n",
    "                    print(is_exists)\n",
    "                    break;\n",
    "\n",
    "                              \n",
    "if is_exists == 'TRUE':\n",
    "    li=inp.partition('not')\n",
    "    new_text = li[0] + 'good'\n",
    "    print(new_text)\n",
    "    \n",
    "    "
   ]
  },
  {
   "cell_type": "markdown",
   "metadata": {},
   "source": [
    "Q5. Write the Python program to remove the characters which have odd\n",
    "index values of a given string."
   ]
  },
  {
   "cell_type": "code",
   "execution_count": 181,
   "metadata": {},
   "outputs": [
    {
     "name": "stdout",
     "output_type": "stream",
     "text": [
      "Original string is             :: My name is Tejdeep K Rajkumar\n",
      "String after removing index is :: M aei ede  akmr\n"
     ]
    }
   ],
   "source": [
    "x = \"My name is Tejdeep K Rajkumar\"\n",
    "\n",
    "y = list(x)\n",
    "z = []\n",
    "for i in range(0,len(y)):\n",
    "    if i%2==0:\n",
    "        z.append(y[i])\n",
    "z = \"\".join(z)\n",
    "\n",
    "print(\"Original string is             ::\", x)\n",
    "print(\"String after removing index is ::\" , z)"
   ]
  },
  {
   "cell_type": "markdown",
   "metadata": {},
   "source": [
    "Q6. Write the python program to print the following floating numbers up\n",
    "to 2 decimal places? "
   ]
  },
  {
   "cell_type": "code",
   "execution_count": 182,
   "metadata": {},
   "outputs": [
    {
     "name": "stdout",
     "output_type": "stream",
     "text": [
      "Enter the floating number ??13.234525\n",
      "\n",
      "Original Number:  13.234525\n",
      "Formatted Number: 13.23\n"
     ]
    }
   ],
   "source": [
    "x = float(input(\"Enter the floating number ??\"))\n",
    "\n",
    "print(\"\\nOriginal Number: \", x)\n",
    "print(\"Formatted Number: \"+\"{:.2f}\".format(x));"
   ]
  },
  {
   "cell_type": "markdown",
   "metadata": {},
   "source": [
    "Q7. Write the Python program to format a number with a percentage?"
   ]
  },
  {
   "cell_type": "code",
   "execution_count": 183,
   "metadata": {},
   "outputs": [
    {
     "name": "stdout",
     "output_type": "stream",
     "text": [
      "Formatted Number with percentage :: 55.00%\n",
      "The number with percentage is    :: 33.3333%\n",
      "2%\n"
     ]
    }
   ],
   "source": [
    "x = 0.55\n",
    "print(\"Formatted Number with percentage :: \"+\"{:.2%}\".format(x));\n",
    "\n",
    "y = 1/3\n",
    "print(\"The number with percentage is    :: {:.4%}\".format(y))\n",
    "\n",
    "z = 5/2\n",
    "print (\"{0:.0f}%\".format(z))"
   ]
  },
  {
   "cell_type": "markdown",
   "metadata": {},
   "source": [
    "Q8. Write the Python program to count occurrences of a substring in a\n",
    "String?"
   ]
  },
  {
   "cell_type": "code",
   "execution_count": 195,
   "metadata": {},
   "outputs": [
    {
     "name": "stdout",
     "output_type": "stream",
     "text": [
      " Enter the substring to searchpython\n",
      "Input k:: python\n",
      "Number of occurance of substring: 2\n"
     ]
    }
   ],
   "source": [
    "text1 = \"Python is an programing language , Python can be used on a server to create web applications\"\n",
    "text=text1.lower()\n",
    "count = 0\n",
    "text_split = text.split()\n",
    "\n",
    "k = (input(\" Enter the substring to search\"))\n",
    "k.lower()\n",
    "print(\"Input k::\",k)\n",
    "\n",
    "for i in range(0,len(text_split)):\n",
    "    if text_split[i] == k:\n",
    "        count = count+1\n",
    "\n",
    "print(\"Number of occurance of substring:\",count)\n",
    "    "
   ]
  },
  {
   "cell_type": "markdown",
   "metadata": {},
   "source": [
    "Q9. Write the Python program to count repeated characters in a string.\n",
    "\n",
    "    Sample string: ' thequickbrownjumpsoverthelazydog '\n",
    "    \n",
    "    Expected output:\n",
    "    o 3\n",
    "    e 3\n",
    "    u 2\n",
    "    h 2\n",
    "    r 2\n",
    "    t 2"
   ]
  },
  {
   "cell_type": "code",
   "execution_count": 185,
   "metadata": {},
   "outputs": [
    {
     "name": "stdout",
     "output_type": "stream",
     "text": [
      "defaultdict(<class 'int'>, {'t': 2, 'h': 2, 'e': 3, 'q': 1, 'u': 2, 'i': 1, 'c': 1, 'k': 1, 'b': 1, 'r': 2, 'o': 3, 'w': 1, 'n': 1, 'j': 1, 'm': 1, 'p': 1, 's': 1, 'v': 1, 'l': 1, 'a': 1, 'z': 1, 'y': 1, 'd': 1, 'g': 1})\n",
      "e 3\n",
      "o 3\n",
      "t 2\n",
      "h 2\n",
      "u 2\n",
      "r 2\n"
     ]
    }
   ],
   "source": [
    "import collections\n",
    "str1 = 'thequickbrownjumpsoverthelazydog'\n",
    "d = collections.defaultdict(int)\n",
    "for c in str1:\n",
    "    d[c] = d[c] + 1\n",
    "\n",
    "print(d)\n",
    "for c in sorted(d, key=d.get, reverse=True):\n",
    "  if d[c] > 1:\n",
    "      print('%s %d' % (c, d[c]))"
   ]
  },
  {
   "cell_type": "markdown",
   "metadata": {},
   "source": [
    "Q10. Write the Python program to print the square and cube symbol in\n",
    "the area of a rectangle and volume of a cylinder?\n",
    "\n",
    "    Sample outputThe area of the rectangle is 1256.66cm2\n",
    "    The volume of the cylinder is 1254.725cm3\n"
   ]
  },
  {
   "cell_type": "code",
   "execution_count": 186,
   "metadata": {},
   "outputs": [
    {
     "name": "stdout",
     "output_type": "stream",
     "text": [
      "Area of rectangle is 50cm2\n",
      "Area of rectangle is 1000cm3\n"
     ]
    }
   ],
   "source": [
    "def area_rec(l,w):\n",
    "    ar_rec = l*w\n",
    "    return \"Area of rectangle is {}cm2\".format(ar_rec)\n",
    "    \n",
    "def vol_cube(a):\n",
    "    vol_cube = a*a*a\n",
    "    return \"Area of rectangle is {}cm3\".format(vol_cube)\n",
    "\n",
    "print(area_rec(5,10))\n",
    "print(vol_cube(10))"
   ]
  },
  {
   "cell_type": "markdown",
   "metadata": {},
   "source": [
    "Q11. Write the Python program to check if a string contains all letters of\n",
    "the alphabet?"
   ]
  },
  {
   "cell_type": "code",
   "execution_count": 187,
   "metadata": {},
   "outputs": [],
   "source": [
    "def count_of_alp(str):\n",
    "    lst = []\n",
    "    for i in str.lower().replace(\" \",\"\"):\n",
    "        if not i.isdigit():\n",
    "            if i not in lst:\n",
    "                lst.append(i)\n",
    "    print(len(lst))        \n",
    "\n",
    "    if len(lst)== 26:\n",
    "        print(\"String contains all the alphabets\")\n",
    "    else:\n",
    "        print(\"String doesnt contain all the alphabets\")        "
   ]
  },
  {
   "cell_type": "code",
   "execution_count": 188,
   "metadata": {},
   "outputs": [
    {
     "name": "stdout",
     "output_type": "stream",
     "text": [
      "14\n",
      "String doesnt contain all the alphabets\n",
      "26\n",
      "String contains all the alphabets\n"
     ]
    }
   ],
   "source": [
    "#1        \n",
    "str = \"My name is Tejdeep Rajkumar 123\"\n",
    "count_of_alp(str)\n",
    "\n",
    "#2        \n",
    "str = \"abcdefghijklmnopqrstuvwxyz6577\"\n",
    "count_of_alp(str)"
   ]
  },
  {
   "cell_type": "markdown",
   "metadata": {},
   "source": [
    "Q12. Write the Python program to find the second most repeated word\n",
    "in a given string?"
   ]
  },
  {
   "cell_type": "code",
   "execution_count": 189,
   "metadata": {},
   "outputs": [
    {
     "name": "stdout",
     "output_type": "stream",
     "text": [
      "Second most repeated :: is\n"
     ]
    }
   ],
   "source": [
    "text = \"Python is an programing language , Python can be used on a server and Python is used to create web applications\"\n",
    "text.lower()\n",
    "Dict = {}\n",
    "counter = 0\n",
    "text_split = text.split()\n",
    "\n",
    "for i in range(0,len(text_split)):\n",
    "    Dict[text_split[i]] = text_split.count(text_split[i])\n",
    "    \n",
    "\n",
    "for i in Dict:\n",
    "    counter = counter + 1\n",
    "    if counter == 2:\n",
    "        print(\"Second most repeated ::\",i)"
   ]
  },
  {
   "cell_type": "markdown",
   "metadata": {},
   "source": [
    "Q13. Write the Python program to find the minimum window in the given\n",
    "string, which will contains all the characters of another given\n",
    "strings?\n",
    "\n",
    "    Example 1\n",
    "    Input : string1 = \" PRWSOERIUSFK \"\n",
    "    string2 = \" OSU \"\n",
    "    Output: Minimum window is \"OERIUS\""
   ]
  },
  {
   "cell_type": "code",
   "execution_count": null,
   "metadata": {},
   "outputs": [],
   "source": []
  },
  {
   "cell_type": "markdown",
   "metadata": {},
   "source": [
    "Q14. Write the Python program to count number of substrings from a\n",
    "given string of lowercase alphabets with exactly k distinct (given)\n",
    "characters?\n",
    "\n",
    "    Input a string (lowercase alphabets): wolf\n",
    "    Input k: 4\n",
    "    Number of substrings with exactly 4 distinct characters: 1"
   ]
  },
  {
   "cell_type": "code",
   "execution_count": 190,
   "metadata": {},
   "outputs": [
    {
     "name": "stdout",
     "output_type": "stream",
     "text": [
      " Count of Distinct characters in a word5\n",
      "Input k:: 5\n",
      "Number of substrings with exactly 4 distinct characters: 5\n"
     ]
    }
   ],
   "source": [
    "text = \"Python is an programing language , Python can be used on a server to create web applications\"\n",
    "text.lower()\n",
    "count = 0\n",
    "text_split = text.split()\n",
    "\n",
    "k = int(input(\" Count of Distinct characters in a word\"))\n",
    "print(\"Input k::\",k)\n",
    "\n",
    "for i in range(0,len(text_split)):\n",
    "    l = list(text_split[i])\n",
    "    my_set = set(l)\n",
    "    my_new_list = list(my_set)\n",
    "    if len(my_new_list) > k:\n",
    "        count = count + 1\n",
    "print(\"Number of substrings with exactly 4 distinct characters:\",count)\n",
    "    "
   ]
  },
  {
   "cell_type": "code",
   "execution_count": 191,
   "metadata": {},
   "outputs": [
    {
     "data": {
      "text/plain": [
       "['Python', 'is', 'an', 'programing', 'language']"
      ]
     },
     "execution_count": 191,
     "metadata": {},
     "output_type": "execute_result"
    }
   ],
   "source": [
    "text = \"Python is an programing language\"\n",
    "l=text.split()\n",
    "l"
   ]
  },
  {
   "cell_type": "markdown",
   "metadata": {},
   "source": [
    "Q15. Write the Python program to count number of substrings with same\n",
    "first and last characters of the given string?\n",
    "\n",
    "    Input a string: abcd\n",
    "    4\n"
   ]
  },
  {
   "cell_type": "code",
   "execution_count": 192,
   "metadata": {},
   "outputs": [
    {
     "name": "stdout",
     "output_type": "stream",
     "text": [
      "servers :: has same first and last character \n",
      "1\n"
     ]
    }
   ],
   "source": [
    "text = \"Python is an programing language , Python can be used on a servers to create web applications\"\n",
    "count = 0\n",
    "text_split = text.split()\n",
    "\n",
    "for i in range(0,len(text_split)):\n",
    "    if len(text_split[i]) > 2:        \n",
    "        if text_split[i][0] == text_split[i][-1]:\n",
    "            count = count  + 1\n",
    "            print(text_split[i] + \" :: has same first and last character \")\n",
    "print(count)"
   ]
  },
  {
   "cell_type": "markdown",
   "metadata": {},
   "source": [
    "## Great Job!"
   ]
  }
 ],
 "metadata": {
  "kernelspec": {
   "display_name": "Python 3",
   "language": "python",
   "name": "python3"
  },
  "language_info": {
   "codemirror_mode": {
    "name": "ipython",
    "version": 3
   },
   "file_extension": ".py",
   "mimetype": "text/x-python",
   "name": "python",
   "nbconvert_exporter": "python",
   "pygments_lexer": "ipython3",
   "version": "3.7.3"
  }
 },
 "nbformat": 4,
 "nbformat_minor": 2
}
